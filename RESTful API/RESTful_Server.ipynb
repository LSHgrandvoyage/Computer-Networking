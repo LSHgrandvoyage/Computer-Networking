{
 "cells": [
  {
   "cell_type": "code",
   "execution_count": null,
   "id": "a926632c-d506-4e46-af8f-c0e0b0a1d17e",
   "metadata": {},
   "outputs": [
    {
     "name": "stdout",
     "output_type": "stream",
     "text": [
      " * Serving Flask app '__main__' (lazy loading)\n",
      " * Environment: production\n",
      "\u001b[31m   WARNING: This is a development server. Do not use it in a production deployment.\u001b[0m\n",
      "\u001b[2m   Use a production WSGI server instead.\u001b[0m\n",
      " * Debug mode: off\n"
     ]
    },
    {
     "name": "stderr",
     "output_type": "stream",
     "text": [
      " * Running on http://127.0.0.1:5000/ (Press CTRL+C to quit)\n",
      "127.0.0.1 - - [14/Oct/2023 15:47:59] \"GET /?city=Seoul HTTP/1.1\" 200 -\n"
     ]
    },
    {
     "name": "stdout",
     "output_type": "stream",
     "text": [
      "Cache is saved. city = Seoul\n",
      "response data from server\n",
      "Content-Type: application/json\n",
      "Content-Length: 469\n",
      "Cache-Control: public, max-age=3600\n",
      "Last-Modified: Sat, 14 Oct 2023 06:47:59 GMT\n",
      "\n",
      "\n"
     ]
    },
    {
     "name": "stderr",
     "output_type": "stream",
     "text": [
      "127.0.0.1 - - [14/Oct/2023 15:48:54] \"GET /?city=Seoul HTTP/1.1\" 203 -\n"
     ]
    },
    {
     "name": "stdout",
     "output_type": "stream",
     "text": [
      "Data is cached\n"
     ]
    }
   ],
   "source": [
    "from flask import Flask, request, jsonify\n",
    "import requests\n",
    "import time\n",
    "\n",
    "app = Flask(__name__)\n",
    "\n",
    "API_KEY = \"0c2bcbe7881e1fe6a25144bcdf33afdd\"\n",
    "\n",
    "w_cache = {}\n",
    "cache_period = 3600\n",
    "w_data = None\n",
    "\n",
    "@app.route('/', methods = ['GET'])\n",
    "def weather():\n",
    "  city = request.args.get('city')\n",
    "  error = None\n",
    "  now = time.time()\n",
    "  try:\n",
    "    if city in w_cache and (now - w_cache[city]['period']) < cache_period:\n",
    "      w_data = w_cache[city]['data']\n",
    "      print(\"Data is cached\")\n",
    "      return jsonify(w_data), 203\n",
    "    else:\n",
    "      api_url = f\"http://api.openweathermap.org/data/2.5/weather?q={city}&appid={API_KEY}\"\n",
    "      res = requests.get(api_url)\n",
    "      if res.status_code == 200:\n",
    "        w_data = res.json()\n",
    "        w_cache[city] = {'data' : w_data, 'period' : now}\n",
    "        print(f\"Cache is saved. city = {city}\")\n",
    "      else:\n",
    "        error = \"Data not found\"\n",
    "        return jsonify({\"error\": error}), 404\n",
    "      res = jsonify(w_data)\n",
    "      res.headers['Cache-Control'] = f'public, max-age={cache_period}'\n",
    "      res.headers['Last-Modified'] = time.strftime('%a, %d %b %Y %H:%M:%S GMT', time.gmtime(now))\n",
    "      print(\"response data from server\")\n",
    "      print(res.headers)\n",
    "      return res\n",
    "  except requests.exceptions.RequestException as err:\n",
    "        print(f\"Error! : {err}\")\n",
    "        return jsonify({\"error\": \"Internal Server Error\"}), 500\n",
    "\n",
    "if __name__ == '__main__':\n",
    "  app.run()\n"
   ]
  },
  {
   "cell_type": "code",
   "execution_count": null,
   "id": "2e7574fb-7dd5-459e-82ae-cb80f4448670",
   "metadata": {},
   "outputs": [],
   "source": []
  },
  {
   "cell_type": "code",
   "execution_count": null,
   "id": "766c219e-b09b-474a-a0f3-bb88986124b8",
   "metadata": {},
   "outputs": [],
   "source": []
  },
  {
   "cell_type": "code",
   "execution_count": null,
   "id": "93f5b4d0-2fc9-4c33-a892-137e938191ba",
   "metadata": {},
   "outputs": [],
   "source": []
  }
 ],
 "metadata": {
  "kernelspec": {
   "display_name": "Python 3 (ipykernel)",
   "language": "python",
   "name": "python3"
  },
  "language_info": {
   "codemirror_mode": {
    "name": "ipython",
    "version": 3
   },
   "file_extension": ".py",
   "mimetype": "text/x-python",
   "name": "python",
   "nbconvert_exporter": "python",
   "pygments_lexer": "ipython3",
   "version": "3.10.12"
  }
 },
 "nbformat": 4,
 "nbformat_minor": 5
}

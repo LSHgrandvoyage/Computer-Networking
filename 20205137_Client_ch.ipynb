{
 "cells": [
  {
   "cell_type": "code",
   "execution_count": 24,
   "id": "4dc9c908-12e6-4b9a-a9ab-ee359c767825",
   "metadata": {},
   "outputs": [
    {
     "name": "stdin",
     "output_type": "stream",
     "text": [
      "Type your city name in English:  Seoul\n"
     ]
    },
    {
     "name": "stdout",
     "output_type": "stream",
     "text": [
      "Weather info\n",
      "City: Seoul\n",
      "Weather condition: clear sky\n",
      "Temperature: 18.2 Celsius\n",
      "Humidity: 65 %\n",
      "WindSpeed: 2.57 m/s\n",
      "Clouds: 0 %\n"
     ]
    }
   ],
   "source": [
    "import requests\n",
    "\n",
    "secret_url = \"http://127.0.0.1:5000/\"\n",
    "city = input(\"Type your city name in English: \")\n",
    "while True:\n",
    "  if not all(char.encode().isalpha() or char.isspace() for char in city):\n",
    "    print(\"Not valid city name format. City name could be only English\")\n",
    "    city = input(\"Type your city name in English: \")\n",
    "  else:\n",
    "    break\n",
    "\n",
    "try:\n",
    "     res = requests.get(f\"{secret_url}?city={city}\")\n",
    "     res.raise_for_status()\n",
    "     w_data = res.json()\n",
    "     temp_to_cel = w_data['main']['temp'] - 273.15\n",
    "     print(\"Weather info\")\n",
    "     print(f\"City: {w_data['name']}\")\n",
    "     print(f\"Weather condition: {w_data['weather'][0]['description']}\")\n",
    "     print(f\"Temperature: {temp_to_cel:.1f} Celsius\")\n",
    "     print(f\"Humidity: {w_data['main']['humidity']} %\")\n",
    "     print(f\"WindSpeed: {w_data['wind']['speed']} m/s\")\n",
    "     print(f\"Clouds: {w_data['clouds']['all']} %\")\n",
    "except requests.exceptions.Timeout as e1:\n",
    "    print(\"Timeout! Try again! Detail: \" + str(e1))\n",
    "except requests.exceptions.ConnectionError as e2:\n",
    "    print(\"Connection Error! Check the server is opened! Detail: \" + str(e2))\n",
    "except requests.exceptions.HTTPError as e3:\n",
    "    print(\"HTTP Error! Check your city name if it is correct! Detail: \" + str(e3))\n",
    "except requests.exceptions.TooManyRedirects as e4:\n",
    "    print(\"Exceed maximum redirections! Detail: \" + str(e4))\n",
    "except requests.exceptions.RequestException as e5:\n",
    "    print(\"Exceptions occured! Detail: \" + str(e5))"
   ]
  },
  {
   "cell_type": "code",
   "execution_count": null,
   "id": "61afde20-ac21-4642-bf65-27b691083374",
   "metadata": {},
   "outputs": [],
   "source": []
  },
  {
   "cell_type": "code",
   "execution_count": null,
   "id": "6bf2d968-97ce-4399-acab-50c2d71959bc",
   "metadata": {},
   "outputs": [],
   "source": []
  }
 ],
 "metadata": {
  "kernelspec": {
   "display_name": "Python 3 (ipykernel)",
   "language": "python",
   "name": "python3"
  },
  "language_info": {
   "codemirror_mode": {
    "name": "ipython",
    "version": 3
   },
   "file_extension": ".py",
   "mimetype": "text/x-python",
   "name": "python",
   "nbconvert_exporter": "python",
   "pygments_lexer": "ipython3",
   "version": "3.10.12"
  }
 },
 "nbformat": 4,
 "nbformat_minor": 5
}
